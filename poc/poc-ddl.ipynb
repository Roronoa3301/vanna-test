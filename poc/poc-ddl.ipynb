{
 "cells": [
  {
   "cell_type": "markdown",
   "metadata": {},
   "source": [
    "This POC is to test vanna with DDL statements.\n",
    "\n",
    "The command used to generate the DDL statement in postgresql is:\n",
    "\n",
    "```\n",
    "pg_dump -U <user> -d <database> -s -t <table>\n",
    "```"
   ]
  },
  {
   "cell_type": "code",
   "execution_count": null,
   "metadata": {},
   "outputs": [],
   "source": [
    "%pip install 'vanna[chromadb,openai,postgres]'"
   ]
  },
  {
   "cell_type": "code",
   "execution_count": null,
   "metadata": {},
   "outputs": [],
   "source": [
    "from vanna.openai.openai_chat import OpenAI_Chat\n",
    "from vanna.chromadb.chromadb_vector import ChromaDB_VectorStore\n",
    "import os\n",
    "from dotenv import load_dotenv\n",
    "import json"
   ]
  },
  {
   "cell_type": "code",
   "execution_count": null,
   "metadata": {},
   "outputs": [],
   "source": [
    "load_dotenv()\n",
    "\n",
    "OPEN_AI_API_KEY = os.getenv(\"OPEN_AI_API_KEY\")\n",
    "OPEN_AI_MODEL = os.getenv(\"OPEN_AI_MODEL\")\n",
    "DB_HOST = os.getenv(\"DB_HOST\")\n",
    "DB_PORT = os.getenv(\"DB_PORT\")\n",
    "DB_USER = os.getenv(\"DB_USER\")\n",
    "DB_PASSWORD = os.getenv(\"DB_PASSWORD\")\n",
    "DB_NAME = os.getenv(\"DB_NAME\")\n",
    "DATA_DICTIONARY = os.getenv(\"DATA_DICTIONARY_PATH\")\n",
    "print(DATA_DICTIONARY)"
   ]
  },
  {
   "cell_type": "code",
   "execution_count": null,
   "metadata": {},
   "outputs": [],
   "source": [
    "class MyVanna(ChromaDB_VectorStore, OpenAI_Chat):\n",
    "    def __init__(self, config=None):\n",
    "        ChromaDB_VectorStore.__init__(self, config=config)\n",
    "        OpenAI_Chat.__init__(self, config=config)\n",
    "\n",
    "vn = MyVanna(config={'api_key': OPEN_AI_API_KEY, 'model': OPEN_AI_MODEL})"
   ]
  },
  {
   "cell_type": "code",
   "execution_count": null,
   "metadata": {},
   "outputs": [],
   "source": [
    "vn.connect_to_postgres(host=DB_HOST, dbname=DB_NAME, user=DB_USER, password=DB_PASSWORD, port=DB_PORT)"
   ]
  },
  {
   "cell_type": "code",
   "execution_count": null,
   "metadata": {},
   "outputs": [],
   "source": [
    "vn.train(ddl=\"\"\"\n",
    "    CREATE TABLE public.core_watchlist (\n",
    "        name text,\n",
    "        bse_code integer,\n",
    "        nse_code text,\n",
    "        industry text,\n",
    "        current_price numeric,\n",
    "        piotroski_score integer,\n",
    "        altman_z_score numeric,\n",
    "        graham_number numeric,\n",
    "        earnings_yield numeric,\n",
    "        dividend_yield numeric,\n",
    "        return_on_capital_employed numeric,\n",
    "        return_on_equity numeric,\n",
    "        return_on_assets numeric,\n",
    "        price_to_book_value numeric,\n",
    "        price_to_earning numeric,\n",
    "        industry_pe numeric,\n",
    "        price_to_sales numeric,\n",
    "        price_to_free_cash_flow numeric,\n",
    "        peg_ratio numeric,\n",
    "        enterprise_value_to_ebit numeric,\n",
    "        evebitda numeric,\n",
    "        cash_by_market_cap numeric,\n",
    "        evsales numeric,\n",
    "        evcapitalemployed numeric,\n",
    "        npm_latest_quarter numeric,\n",
    "        npm_last_year numeric,\n",
    "        opm_latest_quarter numeric,\n",
    "        opm_last_year numeric,\n",
    "        inventory_turnover_ratio numeric,\n",
    "        asset_turnover_ratio numeric,\n",
    "        debt_to_equity numeric,\n",
    "        interest_coverage_ratio numeric,\n",
    "        current_ratio numeric,\n",
    "        quick_ratio numeric,\n",
    "        sales_growth_3years numeric,\n",
    "        sales_growth_5years numeric,\n",
    "        profit_growth_3years numeric,\n",
    "        profit_growth_5years numeric,\n",
    "        average_return_on_equity_5years numeric,\n",
    "        average_return_on_equity_3years numeric,\n",
    "        return_over_1year numeric,\n",
    "        return_over_3years numeric,\n",
    "        return_over_5years numeric,\n",
    "        sales numeric,\n",
    "        opm numeric,\n",
    "        profit_after_tax numeric,\n",
    "        market_capitalization numeric,\n",
    "        sales_latest_quarter numeric,\n",
    "        profit_after_tax_latest_quarter numeric,\n",
    "        yoy_quarterly_sales_growth numeric,\n",
    "        yoy_quarterly_profit_growth numeric,\n",
    "        eps numeric,\n",
    "        debt numeric,\n",
    "        promoter_holding numeric,\n",
    "        change_in_promoter_holding numeric,\n",
    "        pledged_percentage numeric,\n",
    "        sales_growth numeric,\n",
    "        profit_growth numeric,\n",
    "        enterprise_value numeric\n",
    "    );\n",
    "\"\"\")"
   ]
  },
  {
   "cell_type": "code",
   "execution_count": null,
   "metadata": {},
   "outputs": [],
   "source": [
    "# At any time you can inspect what training data the package is able to reference\n",
    "training_data = vn.get_training_data()\n",
    "training_data"
   ]
  },
  {
   "cell_type": "code",
   "execution_count": null,
   "metadata": {},
   "outputs": [],
   "source": [
    "vn.ask(question=\"What are the top 5 companies?\")"
   ]
  },
  {
   "cell_type": "code",
   "execution_count": null,
   "metadata": {},
   "outputs": [],
   "source": [
    "vn.ask(question=\"What is their current price?\")"
   ]
  },
  {
   "cell_type": "code",
   "execution_count": null,
   "metadata": {},
   "outputs": [],
   "source": [
    "vn.ask(question='Compare profitability ratios of NSE Code SKFINDIA and NSE Code TIMKEN and let me know which is better')"
   ]
  },
  {
   "cell_type": "code",
   "execution_count": null,
   "metadata": {},
   "outputs": [],
   "source": [
    "vn.ask(question='I want to buy NSE Code SKFINDIA. By analyzing Profitability ratios for NSE Code SKFINDIA can you provide your feedback?')"
   ]
  },
  {
   "cell_type": "code",
   "execution_count": null,
   "metadata": {},
   "outputs": [],
   "source": [
    "vn.ask(question='Compare Liquidity ratios of NSE Code SKFINDIA and NSE Code TIMKEN and let me know which is better')"
   ]
  },
  {
   "cell_type": "code",
   "execution_count": null,
   "metadata": {},
   "outputs": [],
   "source": [
    "vn.ask(question='Amongst NSE Code TIMKEN and NSE Code SKFINDIA which better on Enterprise Value ratios')"
   ]
  },
  {
   "cell_type": "code",
   "execution_count": null,
   "metadata": {},
   "outputs": [],
   "source": [
    "vn.ask(question='Amongst NSE Code TIMKEN and NSE Code SKFINDIA which perform better on Sales growth')"
   ]
  },
  {
   "cell_type": "code",
   "execution_count": null,
   "metadata": {},
   "outputs": [],
   "source": [
    "vn.ask(question='Amongst NSE Code TIMKEN and NSE Code SKFINDIA which perform better on YOY ration comparision')"
   ]
  },
  {
   "cell_type": "code",
   "execution_count": null,
   "metadata": {},
   "outputs": [],
   "source": [
    "vn.ask(question='List NSE code TIMKEN 1 year, 3 year and 5 year return - Graph')"
   ]
  },
  {
   "cell_type": "code",
   "execution_count": null,
   "metadata": {},
   "outputs": [],
   "source": [
    "vn.ask(question='Amongst NSE Code TIMKEN and NSE Code SKFINDIA which perform better on 1 year, 3 year and 5 year return comparison')"
   ]
  },
  {
   "cell_type": "code",
   "execution_count": null,
   "metadata": {},
   "outputs": [],
   "source": [
    "vn.ask(question='Amongst NSE Code TIMKEN and NSE Code SKFINDIA which perform better on Sales Growth and Profit Growth comparison')"
   ]
  },
  {
   "cell_type": "code",
   "execution_count": null,
   "metadata": {},
   "outputs": [],
   "source": [
    "vn.ask(question='List Top 5 NSE Codes which perform well in terms of Profitability in Chemicals Industry')"
   ]
  },
  {
   "cell_type": "code",
   "execution_count": null,
   "metadata": {},
   "outputs": [],
   "source": [
    "vn.ask(question='List Top 5 NSE Codes which perform well in terms of NPM and OPM ratio in Chemicals Industry')"
   ]
  },
  {
   "cell_type": "code",
   "execution_count": null,
   "metadata": {},
   "outputs": [],
   "source": [
    "vn.ask(question='Top 5 NSE Codes in the Auto Ancillaries Industry based on Return Ratios')"
   ]
  },
  {
   "cell_type": "code",
   "execution_count": null,
   "metadata": {},
   "outputs": [],
   "source": [
    "vn.ask(question='Top 5 NSE Codes in the Auto Ancillaries Industry based on Price Ratios')"
   ]
  },
  {
   "cell_type": "code",
   "execution_count": null,
   "metadata": {},
   "outputs": [],
   "source": [
    "vn.ask(question='Top 5 NSE Codes in the Auto Ancillaries Industry based on Enterprise Value to EBIT, EVEBITDA and EVSALES criteria')"
   ]
  },
  {
   "cell_type": "code",
   "execution_count": null,
   "metadata": {},
   "outputs": [],
   "source": [
    "vn.ask(question='What is difference between Price to Earning Ration of each NSE Code of Auto Ancillaries Industry and corresponding Industry PE')"
   ]
  },
  {
   "cell_type": "code",
   "execution_count": null,
   "metadata": {},
   "outputs": [],
   "source": [
    "vn.ask(question='Which NSE Code of Auto Ancillaries Industry is expensive by comparison of Price Earnings ration and corresponding Industry PE')"
   ]
  },
  {
   "cell_type": "code",
   "execution_count": null,
   "metadata": {},
   "outputs": [],
   "source": [
    "vn.ask(question='List NSE code where Z score and Pitrowski score is greater than 5 and Sales Growth 3yrs is greater than Sales growth 5yrs and profit growth 3years is greater than Profit growth 5 years and Sales growth 3 Years is greater than Sales Growth 5 years')"
   ]
  },
  {
   "cell_type": "code",
   "execution_count": null,
   "metadata": {},
   "outputs": [],
   "source": [
    "vn.ask(question='Which NSE codes should one avoid based on Return ratios')"
   ]
  },
  {
   "cell_type": "code",
   "execution_count": null,
   "metadata": {},
   "outputs": [],
   "source": [
    "vn.ask(question='List Top 10 NSE Codes based on Profitability ratios of last quarter')"
   ]
  },
  {
   "cell_type": "code",
   "execution_count": null,
   "metadata": {},
   "outputs": [],
   "source": [
    "vn.ask(question='List Top 5 NSE Codes from Chemicals Industry having attractive valuation ratios')"
   ]
  },
  {
   "cell_type": "code",
   "execution_count": null,
   "metadata": {},
   "outputs": [],
   "source": [
    "vn.ask(question='List NSE code in ascending order of price to book value where Z score and Pitrowski score is greater than 5 and Sales Growth 3yrs is greater than Sales growth 5yrs and profit growth 3years is greater than Profit growth 5 years and Return on equity is greater than 20 and Return on assets is greater than 20 and Return on Capital employed is greater than 20.')"
   ]
  },
  {
   "cell_type": "code",
   "execution_count": null,
   "metadata": {},
   "outputs": [],
   "source": [
    "vn.ask(question='List NSE code in ascending order of price to book value where Z score and Pitrowski score is greater than 5 and Sales Growth 3yrs is greater than Sales growth 5yrs and profit growth 3years is greater than Profit growth 5 years and Return on equity is greater than 20 and Return on assets is greater than 20 and Return on Capital employed is greater than 20.')"
   ]
  },
  {
   "cell_type": "code",
   "execution_count": null,
   "metadata": {},
   "outputs": [],
   "source": [
    "vn.ask(question='Top NSE codes in Productivity Measurement')"
   ]
  },
  {
   "cell_type": "code",
   "execution_count": null,
   "metadata": {},
   "outputs": [],
   "source": [
    "vn.ask(question='Bottom 5 NSE codes with less risk')"
   ]
  },
  {
   "cell_type": "code",
   "execution_count": null,
   "metadata": {},
   "outputs": [],
   "source": [
    "vn.ask(question='List valuation ratios of NSE Codes TIMKEN and SKFINDIA')"
   ]
  },
  {
   "cell_type": "code",
   "execution_count": null,
   "metadata": {},
   "outputs": [],
   "source": [
    "vn.ask(question='What is Sales trend in NSE Code SKFINDIA')"
   ]
  },
  {
   "cell_type": "code",
   "execution_count": null,
   "metadata": {},
   "outputs": [],
   "source": [
    "vn.ask(question='Average profitability ratio for Sugar Industry')"
   ]
  },
  {
   "cell_type": "code",
   "execution_count": null,
   "metadata": {},
   "outputs": [],
   "source": [
    "vn.ask(question='Profitability ratios of each Industry')"
   ]
  },
  {
   "cell_type": "code",
   "execution_count": null,
   "metadata": {},
   "outputs": [],
   "source": [
    "vn.ask(question='Return across years for NSE Code BOROLTD')"
   ]
  },
  {
   "cell_type": "code",
   "execution_count": null,
   "metadata": {},
   "outputs": [],
   "source": [
    "vn.ask(question='Return Trend for NSE Code SKFINDIA')"
   ]
  },
  {
   "cell_type": "code",
   "execution_count": null,
   "metadata": {},
   "outputs": [],
   "source": [
    "vn.ask(question='Evaluate the ratios of NSE Code NMDC and let me know if this makes a good investment')"
   ]
  },
  {
   "cell_type": "code",
   "execution_count": null,
   "metadata": {},
   "outputs": [],
   "source": [
    "vn.ask(question='List ratios of NSE Code TATASTEEL for investment decision making')"
   ]
  },
  {
   "cell_type": "code",
   "execution_count": null,
   "metadata": {},
   "outputs": [],
   "source": [
    "vn.ask(question='Top 10 NSE codes and their Industry in Productivity measurement')"
   ]
  },
  {
   "cell_type": "code",
   "execution_count": null,
   "metadata": {},
   "outputs": [],
   "source": [
    "vn.ask(question='10 NSE codes and their Industry with least Productivity measurement')"
   ]
  },
  {
   "cell_type": "code",
   "execution_count": null,
   "metadata": {},
   "outputs": [],
   "source": [
    "vn.ask(question='Compare Average profitability ratio for NSE Code RAYMOND and Average Profitability Ratio of Textiles')"
   ]
  },
  {
   "cell_type": "code",
   "execution_count": null,
   "metadata": {},
   "outputs": [],
   "source": [
    "vn.ask(question='Compare Average Productivity ratio for NSE Code RAYMOND and Average Productivity Ratio of Textiles')"
   ]
  },
  {
   "cell_type": "code",
   "execution_count": null,
   "metadata": {},
   "outputs": [],
   "source": [
    "vn.ask(question='Compare Liquidity ratios for NSE Code RAYMOND and Average Liquidity Ratios of Textiles')"
   ]
  },
  {
   "cell_type": "code",
   "execution_count": null,
   "metadata": {},
   "outputs": [],
   "source": [
    "vn.ask(question='Compare Sales Trend for NSE Code RAYMOND and Average Sales Trend of Textiles')"
   ]
  },
  {
   "cell_type": "code",
   "execution_count": null,
   "metadata": {},
   "outputs": [],
   "source": [
    "vn.ask(question='List NSE Codes belonging to Textiles - Products Industry in ascending order of Sales Trend')"
   ]
  },
  {
   "cell_type": "code",
   "execution_count": null,
   "metadata": {},
   "outputs": [],
   "source": [
    "vn.ask(question='What are Valuation Ratios for NSE Code BALRAMCHIN and NSE Code DWARKESH')"
   ]
  },
  {
   "cell_type": "code",
   "execution_count": null,
   "metadata": {},
   "outputs": [],
   "source": [
    "vn.ask(question='List NSE code in ascending order of price to book value where Z score and Pitrowski score is greater than 5')"
   ]
  }
 ],
 "metadata": {
  "kernelspec": {
   "display_name": "Python 3",
   "language": "python",
   "name": "python3"
  },
  "language_info": {
   "codemirror_mode": {
    "name": "ipython",
    "version": 3
   },
   "file_extension": ".py",
   "mimetype": "text/x-python",
   "name": "python",
   "nbconvert_exporter": "python",
   "pygments_lexer": "ipython3",
   "version": "3.10.1"
  }
 },
 "nbformat": 4,
 "nbformat_minor": 2
}
